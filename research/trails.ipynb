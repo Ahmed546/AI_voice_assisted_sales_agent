{
 "cells": [
  {
   "cell_type": "code",
   "execution_count": null,
   "metadata": {},
   "outputs": [],
   "source": [
    "print(\"ok\")"
   ]
  },
  {
   "cell_type": "code",
   "execution_count": null,
   "metadata": {},
   "outputs": [],
   "source": [
    "%pip install openai twilio flask"
   ]
  },
  {
   "cell_type": "code",
   "execution_count": null,
   "metadata": {},
   "outputs": [],
   "source": [
    "%pip install python-dotenv\n"
   ]
  },
  {
   "cell_type": "code",
   "execution_count": null,
   "metadata": {},
   "outputs": [],
   "source": []
  },
  {
   "cell_type": "code",
   "execution_count": null,
   "metadata": {},
   "outputs": [],
   "source": [
    "# Download the helper library from https://www.twilio.com/docs/python/install\n",
    "import os\n",
    "from twilio.rest import Client\n",
    "\n",
    "# Set environment variables for your credentials\n",
    "# Read more at http://twil.io/secure\n",
    "\n",
    "account_sid = \"AC25ff99962f5f1c10f4610882da6d8652\"\n",
    "auth_token = \"1a65fada9d981730798f8f8c27d35f67\"\n",
    "client = Client(account_sid, auth_token)\n",
    "\n",
    "call = client.calls.create(\n",
    "  url=\"http://demo.twilio.com/docs/voice.xml\",\n",
    "  to=\"+923464056076\",\n",
    "  from_=\"+16813666079\"\n",
    ")\n",
    "\n",
    "print(call.sid)"
   ]
  },
  {
   "cell_type": "code",
   "execution_count": null,
   "metadata": {},
   "outputs": [],
   "source": [
    "import os\n",
    "from dotenv import load_dotenv\n",
    "from flask import Flask, request\n",
    "from twilio.twiml.voice_response import VoiceResponse\n",
    "\n",
    "# Load environment variables\n",
    "load_dotenv()\n",
    "\n",
    "# Get Twilio credentials from .env file\n",
    "TWILIO_ACCOUNT_SID = os.getenv(\"TWILIO_ACCOUNT_SID\")\n",
    "TWILIO_AUTH_TOKEN = os.getenv(\"TWILIO_AUTH_TOKEN\")\n",
    "TWILIO_PHONE_NUMBER = os.getenv(\"TWILIO_PHONE_NUMBER\")\n",
    "\n",
    "app = Flask(__name__)\n",
    "\n",
    "@app.route(\"/voice\", methods=['POST'])\n",
    "def voice():\n",
    "    \"\"\"Handle incoming voice calls\"\"\"\n",
    "    response = VoiceResponse()\n",
    "    response.say(\"Hello! Welcome to our AI Sales Agent. How can I assist you today?\", voice='alice', language='en-US')\n",
    "    \n",
    "    # Record customer input and send it for processing\n",
    "    response.record(timeout=5, transcribe=True, action=\"/process\")\n",
    "    \n",
    "    return str(response)\n",
    "\n",
    "@app.route(\"/process\", methods=['POST'])\n",
    "def process_voice():\n",
    "    \"\"\"Process the transcribed speech\"\"\"\n",
    "    customer_speech = request.form.get(\"TranscriptionText\", \"Sorry, I couldn't understand.\")\n",
    "    \n",
    "    response = VoiceResponse()\n",
    "    response.say(f\"You said: {customer_speech}. I will process your request shortly.\", voice='alice')\n",
    "\n",
    "    return str(response)\n",
    "\n",
    "# if __name__ == \"__main__\":\n",
    "#     app.run(port=5000, debug=True)\n"
   ]
  },
  {
   "cell_type": "code",
   "execution_count": null,
   "metadata": {},
   "outputs": [],
   "source": []
  },
  {
   "cell_type": "code",
   "execution_count": null,
   "metadata": {},
   "outputs": [],
   "source": [
    "%pip install pyngrok\n"
   ]
  },
  {
   "cell_type": "markdown",
   "metadata": {},
   "source": [
    "https://3fb6-39-46-137-200.ngrok-free.app"
   ]
  },
  {
   "cell_type": "code",
   "execution_count": null,
   "metadata": {},
   "outputs": [],
   "source": [
    "from twilio.rest import Client\n",
    "import os\n",
    "from dotenv import load_dotenv\n",
    "from flask import Flask, request, jsonify\n",
    "\n",
    "# Load environment variables\n",
    "load_dotenv()\n",
    "\n",
    "# Twilio credentials\n",
    "TWILIO_ACCOUNT_SID = os.getenv(\"TWILIO_ACCOUNT_SID\")\n",
    "TWILIO_AUTH_TOKEN = os.getenv(\"TWILIO_AUTH_TOKEN\")\n",
    "TWILIO_PHONE_NUMBER = os.getenv(\"TWILIO_PHONE_NUMBER\")\n",
    "\n",
    "client = Client(TWILIO_ACCOUNT_SID, TWILIO_AUTH_TOKEN)\n",
    "\n",
    "app = Flask(__name__)\n",
    "\n",
    "@app.route(\"/make-call\", methods=['POST'])\n",
    "def make_call():\n",
    "    \"\"\"Initiate an outbound call\"\"\"\n",
    "    data = request.json\n",
    "    customer_number = data.get(\"customer_number\")\n",
    "\n",
    "    if not customer_number:\n",
    "        return jsonify({\"error\": \"Missing customer number\"}), 400\n",
    "\n",
    "    call = client.calls.create(\n",
    "        to=customer_number,\n",
    "        from_=TWILIO_PHONE_NUMBER,\n",
    "        url=\"https://abc123.ngrok.io/outbound-voice\"\n",
    "    )\n",
    "\n",
    "    return jsonify({\"message\": \"Call initiated\", \"call_sid\": call.sid})\n",
    "\n",
    "\n",
    "@app.route(\"/outbound-voice\", methods=['POST'])\n",
    "def outbound_voice():\n",
    "    \"\"\"Handle outbound call responses\"\"\"\n",
    "    from twilio.twiml.voice_response import VoiceResponse\n",
    "    response = VoiceResponse()\n",
    "    response.say(\"Hello! This is your AI Sales Agent calling. How can I assist you today?\", voice='alice', language='en-US')\n",
    "    \n",
    "    return str(response)\n",
    "\n",
    "if __name__ == \"__main__\":\n",
    "    app.run(port=5000, debug=True)\n"
   ]
  },
  {
   "cell_type": "code",
   "execution_count": null,
   "metadata": {},
   "outputs": [],
   "source": [
    "%pip install -U openai-whisper"
   ]
  },
  {
   "cell_type": "code",
   "execution_count": null,
   "metadata": {},
   "outputs": [],
   "source": [
    "%pip install elevenlabs\n"
   ]
  },
  {
   "cell_type": "code",
   "execution_count": null,
   "metadata": {},
   "outputs": [],
   "source": [
    "import whisper\n",
    "from elevenlabs import generate, play\n",
    "\n",
    "# Load Whisper model\n",
    "def transcribe_audio(audio_path):\n",
    "    model = whisper.load_model(\"base\")\n",
    "    result = model.transcribe(audio_path)\n",
    "    return result[\"text\"]\n",
    "\n",
    "# Text-to-Speech function\n",
    "def text_to_speech(text):\n",
    "    audio = generate(text=text, voice=\"Adam\", model=\"eleven_multilingual_v2\")\n",
    "    play(audio)\n",
    "\n",
    "# Test transcription (Replace 'sample.wav' with an actual file path)\n",
    "#audio_text = transcribe_audio(\"sample.wav\")\n",
    "#print(\"Transcribed Text:\", audio_text)\n",
    "\n",
    "# Test TTS\n",
    "test_text = \"Hello! How can I assist you today?\"\n",
    "text_to_speech(test_text)\n"
   ]
  },
  {
   "cell_type": "code",
   "execution_count": 1,
   "metadata": {},
   "outputs": [
    {
     "name": "stdout",
     "output_type": "stream",
     "text": [
      "feb 24\n"
     ]
    }
   ],
   "source": [
    "print(\"feb 24\")"
   ]
  },
  {
   "cell_type": "code",
   "execution_count": 4,
   "metadata": {},
   "outputs": [
    {
     "name": "stdout",
     "output_type": "stream",
     "text": [
      " * Serving Flask app '__main__'\n",
      " * Debug mode: off\n"
     ]
    },
    {
     "name": "stderr",
     "output_type": "stream",
     "text": [
      "WARNING: This is a development server. Do not use it in a production deployment. Use a production WSGI server instead.\n",
      " * Running on http://127.0.0.1:5000\n",
      "Press CTRL+C to quit\n",
      "127.0.0.1 - - [24/Feb/2025 14:48:59] \"POST /voice HTTP/1.1\" 200 -\n"
     ]
    }
   ],
   "source": [
    "from flask import Flask, request\n",
    "from twilio.twiml.voice_response import VoiceResponse\n",
    "\n",
    "app = Flask(__name__)\n",
    "\n",
    "@app.route(\"/voice\", methods=[\"POST\"])\n",
    "def voice():\n",
    "    \"\"\"Handles incoming calls and responds with the company name\"\"\"\n",
    "    response = VoiceResponse()\n",
    "    response.say(\"Hello! Welcome to XYZ Company. How can I assist you today?\", voice=\"alice\")\n",
    "    return str(response)\n",
    "\n",
    "if __name__ == \"__main__\":\n",
    "    app.run(port=5000)"
   ]
  },
  {
   "cell_type": "code",
   "execution_count": 1,
   "metadata": {},
   "outputs": [
    {
     "name": "stderr",
     "output_type": "stream",
     "text": [
      "C:\\Users\\Waleed\\AppData\\Local\\Temp\\ipykernel_12992\\1009501427.py:6: LangChainDeprecationWarning: The class `OpenAIEmbeddings` was deprecated in LangChain 0.0.9 and will be removed in 1.0. An updated version of the class exists in the :class:`~langchain-openai package and should be used instead. To use it run `pip install -U :class:`~langchain-openai` and import as `from :class:`~langchain_openai import OpenAIEmbeddings``.\n",
      "  embeddings = OpenAIEmbeddings()\n"
     ]
    }
   ],
   "source": [
    "from langchain.embeddings.openai import OpenAIEmbeddings\n",
    "from langchain.vectorstores import FAISS\n",
    "from langchain.docstore.document import Document\n",
    "\n",
    "# Initialize embeddings model\n",
    "embeddings = OpenAIEmbeddings()\n",
    "\n",
    "# Sample Business Knowledge\n",
    "documents = [\n",
    "    Document(page_content=\"Our product is a cloud-based CRM that helps manage customer interactions.\"),\n",
    "    Document(page_content=\"We offer a 14-day free trial with no credit card required.\"),\n",
    "    Document(page_content=\"Our pricing starts at $49 per month for basic features.\"),\n",
    "]\n",
    "\n",
    "# Convert documents into embeddings and store in FAISS\n",
    "vector_store = FAISS.from_documents(documents, embeddings)\n",
    "vector_store.save_local(\"faiss_index\")\n"
   ]
  },
  {
   "cell_type": "code",
   "execution_count": 2,
   "metadata": {},
   "outputs": [],
   "source": [
    "\n",
    "\n",
    "vector_store = FAISS.load_local(\"faiss_index\", embeddings,allow_dangerous_deserialization=True)\n",
    "\n",
    "def retrieve_info(query):\n",
    "    results = vector_store.similarity_search(query, k=3)  # Retrieve top 3 relevant docs\n",
    "    return \"\\n\".join([doc.page_content for doc in results])\n"
   ]
  },
  {
   "cell_type": "code",
   "execution_count": 6,
   "metadata": {},
   "outputs": [
    {
     "name": "stdout",
     "output_type": "stream",
     "text": [
      " * Serving Flask app '__main__'\n",
      " * Debug mode: off\n"
     ]
    },
    {
     "name": "stderr",
     "output_type": "stream",
     "text": [
      "WARNING: This is a development server. Do not use it in a production deployment. Use a production WSGI server instead.\n",
      " * Running on http://127.0.0.1:5000\n",
      "Press CTRL+C to quit\n",
      "127.0.0.1 - - [24/Feb/2025 15:27:39] \"POST /voice HTTP/1.1\" 200 -\n",
      "127.0.0.1 - - [24/Feb/2025 15:28:20] \"POST /voice HTTP/1.1\" 200 -\n"
     ]
    }
   ],
   "source": [
    "from flask import Flask, request, Response\n",
    "from twilio.twiml.voice_response import VoiceResponse\n",
    "\n",
    "app = Flask(__name__)\n",
    "\n",
    "@app.route(\"/voice\", methods=[\"POST\"])\n",
    "def voice():\n",
    "    response = VoiceResponse()\n",
    "\n",
    "    # Enable speech recognition\n",
    "    response.say(\"Hello, welcome to [Your Company]. How can I help you today?\", voice=\"alice\")\n",
    "    response.gather(input=\"speech\", action=\"/process_speech\", timeout=15)  # Wait for speech\n",
    "\n",
    "    return Response(str(response), mimetype=\"application/xml\")\n",
    "@app.route(\"/process_speech\", methods=[\"POST\"])\n",
    "def process_speech():\n",
    "    print(\"Incoming Speech Data:\", request.form)  # Log the request\n",
    "    \n",
    "    user_input = request.form.get(\"SpeechResult\")  # Capture what Twilio heard\n",
    "    print(f\"User said: {user_input}\")  # Print in console for debugging\n",
    "\n",
    "    response = VoiceResponse()\n",
    "\n",
    "    if user_input:\n",
    "        response_text = retrieve_info(user_input)  # Process the input\n",
    "    else:\n",
    "        response_text = \"I'm sorry, I didn't understand that.\"\n",
    "\n",
    "    response.say(response_text, voice=\"alice\")  # Twilio should speak back\n",
    "    \n",
    "    return Response(str(response), mimetype=\"application/xml\")\n",
    "\n",
    "if __name__ == \"__main__\":\n",
    "    app.run(port=5000)"
   ]
  },
  {
   "cell_type": "code",
   "execution_count": null,
   "metadata": {},
   "outputs": [],
   "source": []
  }
 ],
 "metadata": {
  "kernelspec": {
   "display_name": "Python 3",
   "language": "python",
   "name": "python3"
  },
  "language_info": {
   "codemirror_mode": {
    "name": "ipython",
    "version": 3
   },
   "file_extension": ".py",
   "mimetype": "text/x-python",
   "name": "python",
   "nbconvert_exporter": "python",
   "pygments_lexer": "ipython3",
   "version": "3.12.9"
  }
 },
 "nbformat": 4,
 "nbformat_minor": 2
}
